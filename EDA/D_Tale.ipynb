{
  "nbformat": 4,
  "nbformat_minor": 0,
  "metadata": {
    "colab": {
      "name": "D-Tale.ipynb",
      "provenance": [],
      "collapsed_sections": []
    },
    "kernelspec": {
      "name": "python3",
      "display_name": "Python 3"
    }
  },
  "cells": [
    {
      "cell_type": "markdown",
      "metadata": {
        "id": "MAetXUeA2VZB"
      },
      "source": [
        "###**D-Tale** \r\n",
        "The Best Library To Perform Exploratory Data Analysis Using Single Line Of Code"
      ]
    },
    {
      "cell_type": "code",
      "metadata": {
        "id": "wZ2RuV3u2PUw"
      },
      "source": [
        "import seaborn as sns"
      ],
      "execution_count": 3,
      "outputs": []
    },
    {
      "cell_type": "code",
      "metadata": {
        "colab": {
          "base_uri": "https://localhost:8080/"
        },
        "id": "6Hd-DioC2l7I",
        "outputId": "72dedfed-649c-4504-dd7a-c247be70b1be"
      },
      "source": [
        "print(sns.get_dataset_names())"
      ],
      "execution_count": 4,
      "outputs": [
        {
          "output_type": "stream",
          "text": [
            "['anagrams', 'anscombe', 'attention', 'brain_networks', 'car_crashes', 'diamonds', 'dots', 'exercise', 'flights', 'fmri', 'gammas', 'geyser', 'iris', 'mpg', 'penguins', 'planets', 'tips', 'titanic']\n"
          ],
          "name": "stdout"
        }
      ]
    },
    {
      "cell_type": "code",
      "metadata": {
        "id": "44N6Qsph2rSL"
      },
      "source": [
        "df=sns.load_dataset('planets')"
      ],
      "execution_count": 5,
      "outputs": []
    },
    {
      "cell_type": "code",
      "metadata": {
        "colab": {
          "base_uri": "https://localhost:8080/",
          "height": 204
        },
        "id": "2wPMH-tA2sVS",
        "outputId": "1eafa7a6-3afe-46f1-9f87-7d4863844bb3"
      },
      "source": [
        "df.head()"
      ],
      "execution_count": 6,
      "outputs": [
        {
          "output_type": "execute_result",
          "data": {
            "text/html": [
              "<div>\n",
              "<style scoped>\n",
              "    .dataframe tbody tr th:only-of-type {\n",
              "        vertical-align: middle;\n",
              "    }\n",
              "\n",
              "    .dataframe tbody tr th {\n",
              "        vertical-align: top;\n",
              "    }\n",
              "\n",
              "    .dataframe thead th {\n",
              "        text-align: right;\n",
              "    }\n",
              "</style>\n",
              "<table border=\"1\" class=\"dataframe\">\n",
              "  <thead>\n",
              "    <tr style=\"text-align: right;\">\n",
              "      <th></th>\n",
              "      <th>method</th>\n",
              "      <th>number</th>\n",
              "      <th>orbital_period</th>\n",
              "      <th>mass</th>\n",
              "      <th>distance</th>\n",
              "      <th>year</th>\n",
              "    </tr>\n",
              "  </thead>\n",
              "  <tbody>\n",
              "    <tr>\n",
              "      <th>0</th>\n",
              "      <td>Radial Velocity</td>\n",
              "      <td>1</td>\n",
              "      <td>269.300</td>\n",
              "      <td>7.10</td>\n",
              "      <td>77.40</td>\n",
              "      <td>2006</td>\n",
              "    </tr>\n",
              "    <tr>\n",
              "      <th>1</th>\n",
              "      <td>Radial Velocity</td>\n",
              "      <td>1</td>\n",
              "      <td>874.774</td>\n",
              "      <td>2.21</td>\n",
              "      <td>56.95</td>\n",
              "      <td>2008</td>\n",
              "    </tr>\n",
              "    <tr>\n",
              "      <th>2</th>\n",
              "      <td>Radial Velocity</td>\n",
              "      <td>1</td>\n",
              "      <td>763.000</td>\n",
              "      <td>2.60</td>\n",
              "      <td>19.84</td>\n",
              "      <td>2011</td>\n",
              "    </tr>\n",
              "    <tr>\n",
              "      <th>3</th>\n",
              "      <td>Radial Velocity</td>\n",
              "      <td>1</td>\n",
              "      <td>326.030</td>\n",
              "      <td>19.40</td>\n",
              "      <td>110.62</td>\n",
              "      <td>2007</td>\n",
              "    </tr>\n",
              "    <tr>\n",
              "      <th>4</th>\n",
              "      <td>Radial Velocity</td>\n",
              "      <td>1</td>\n",
              "      <td>516.220</td>\n",
              "      <td>10.50</td>\n",
              "      <td>119.47</td>\n",
              "      <td>2009</td>\n",
              "    </tr>\n",
              "  </tbody>\n",
              "</table>\n",
              "</div>"
            ],
            "text/plain": [
              "            method  number  orbital_period   mass  distance  year\n",
              "0  Radial Velocity       1         269.300   7.10     77.40  2006\n",
              "1  Radial Velocity       1         874.774   2.21     56.95  2008\n",
              "2  Radial Velocity       1         763.000   2.60     19.84  2011\n",
              "3  Radial Velocity       1         326.030  19.40    110.62  2007\n",
              "4  Radial Velocity       1         516.220  10.50    119.47  2009"
            ]
          },
          "metadata": {
            "tags": []
          },
          "execution_count": 6
        }
      ]
    },
    {
      "cell_type": "code",
      "metadata": {
        "colab": {
          "base_uri": "https://localhost:8080/",
          "height": 297
        },
        "id": "Dbdbk7OF2vo4",
        "outputId": "f4310143-62f2-4f28-c46c-19a59a322214"
      },
      "source": [
        "df.describe()"
      ],
      "execution_count": 7,
      "outputs": [
        {
          "output_type": "execute_result",
          "data": {
            "text/html": [
              "<div>\n",
              "<style scoped>\n",
              "    .dataframe tbody tr th:only-of-type {\n",
              "        vertical-align: middle;\n",
              "    }\n",
              "\n",
              "    .dataframe tbody tr th {\n",
              "        vertical-align: top;\n",
              "    }\n",
              "\n",
              "    .dataframe thead th {\n",
              "        text-align: right;\n",
              "    }\n",
              "</style>\n",
              "<table border=\"1\" class=\"dataframe\">\n",
              "  <thead>\n",
              "    <tr style=\"text-align: right;\">\n",
              "      <th></th>\n",
              "      <th>number</th>\n",
              "      <th>orbital_period</th>\n",
              "      <th>mass</th>\n",
              "      <th>distance</th>\n",
              "      <th>year</th>\n",
              "    </tr>\n",
              "  </thead>\n",
              "  <tbody>\n",
              "    <tr>\n",
              "      <th>count</th>\n",
              "      <td>1035.000000</td>\n",
              "      <td>992.000000</td>\n",
              "      <td>513.000000</td>\n",
              "      <td>808.000000</td>\n",
              "      <td>1035.000000</td>\n",
              "    </tr>\n",
              "    <tr>\n",
              "      <th>mean</th>\n",
              "      <td>1.785507</td>\n",
              "      <td>2002.917596</td>\n",
              "      <td>2.638161</td>\n",
              "      <td>264.069282</td>\n",
              "      <td>2009.070531</td>\n",
              "    </tr>\n",
              "    <tr>\n",
              "      <th>std</th>\n",
              "      <td>1.240976</td>\n",
              "      <td>26014.728304</td>\n",
              "      <td>3.818617</td>\n",
              "      <td>733.116493</td>\n",
              "      <td>3.972567</td>\n",
              "    </tr>\n",
              "    <tr>\n",
              "      <th>min</th>\n",
              "      <td>1.000000</td>\n",
              "      <td>0.090706</td>\n",
              "      <td>0.003600</td>\n",
              "      <td>1.350000</td>\n",
              "      <td>1989.000000</td>\n",
              "    </tr>\n",
              "    <tr>\n",
              "      <th>25%</th>\n",
              "      <td>1.000000</td>\n",
              "      <td>5.442540</td>\n",
              "      <td>0.229000</td>\n",
              "      <td>32.560000</td>\n",
              "      <td>2007.000000</td>\n",
              "    </tr>\n",
              "    <tr>\n",
              "      <th>50%</th>\n",
              "      <td>1.000000</td>\n",
              "      <td>39.979500</td>\n",
              "      <td>1.260000</td>\n",
              "      <td>55.250000</td>\n",
              "      <td>2010.000000</td>\n",
              "    </tr>\n",
              "    <tr>\n",
              "      <th>75%</th>\n",
              "      <td>2.000000</td>\n",
              "      <td>526.005000</td>\n",
              "      <td>3.040000</td>\n",
              "      <td>178.500000</td>\n",
              "      <td>2012.000000</td>\n",
              "    </tr>\n",
              "    <tr>\n",
              "      <th>max</th>\n",
              "      <td>7.000000</td>\n",
              "      <td>730000.000000</td>\n",
              "      <td>25.000000</td>\n",
              "      <td>8500.000000</td>\n",
              "      <td>2014.000000</td>\n",
              "    </tr>\n",
              "  </tbody>\n",
              "</table>\n",
              "</div>"
            ],
            "text/plain": [
              "            number  orbital_period        mass     distance         year\n",
              "count  1035.000000      992.000000  513.000000   808.000000  1035.000000\n",
              "mean      1.785507     2002.917596    2.638161   264.069282  2009.070531\n",
              "std       1.240976    26014.728304    3.818617   733.116493     3.972567\n",
              "min       1.000000        0.090706    0.003600     1.350000  1989.000000\n",
              "25%       1.000000        5.442540    0.229000    32.560000  2007.000000\n",
              "50%       1.000000       39.979500    1.260000    55.250000  2010.000000\n",
              "75%       2.000000      526.005000    3.040000   178.500000  2012.000000\n",
              "max       7.000000   730000.000000   25.000000  8500.000000  2014.000000"
            ]
          },
          "metadata": {
            "tags": []
          },
          "execution_count": 7
        }
      ]
    },
    {
      "cell_type": "code",
      "metadata": {
        "id": "r0uMyv_Z3XNY"
      },
      "source": [
        "#!pip install dtale"
      ],
      "execution_count": 8,
      "outputs": []
    },
    {
      "cell_type": "code",
      "metadata": {
        "id": "eh73xewg2yef"
      },
      "source": [
        "import dtale"
      ],
      "execution_count": 9,
      "outputs": []
    },
    {
      "cell_type": "code",
      "metadata": {
        "colab": {
          "base_uri": "https://localhost:8080/"
        },
        "id": "LMNPHxgt24MA",
        "outputId": "131feb96-e974-43e4-fac5-6730c181ce0c"
      },
      "source": [
        "dtale.show(df)"
      ],
      "execution_count": 10,
      "outputs": [
        {
          "output_type": "stream",
          "text": [
            "2020-12-16 18:45:07,206 - INFO     - NumExpr defaulting to 2 threads.\n"
          ],
          "name": "stderr"
        },
        {
          "output_type": "execute_result",
          "data": {
            "text/plain": [
              "http://d09e9ba660e2:40000/dtale/main/1"
            ]
          },
          "metadata": {
            "tags": []
          },
          "execution_count": 10
        }
      ]
    },
    {
      "cell_type": "code",
      "metadata": {
        "id": "0Eyc6Cx025OT"
      },
      "source": [
        "# DISCLAIMER: 'df' refers to the data you passed in when calling 'dtale.show'\r\n",
        "\r\n",
        "import numpy as np\r\n",
        "import pandas as pd\r\n",
        "\r\n",
        "if isinstance(df, (pd.DatetimeIndex, pd.MultiIndex)):\r\n",
        "\tdf = df.to_frame(index=False)\r\n",
        "\r\n",
        "# remove any pre-existing indices for ease of use in the D-Tale code, but this is not required\r\n",
        "df = df.reset_index().drop('index', axis=1, errors='ignore')\r\n",
        "df.columns = [str(c) for c in df.columns]  # update columns to strings in case they are numbers\r\n",
        "\r\n",
        "chart = np.histogram(df[~pd.isnull(df['distance'])][['distance']], bins=20)\r\n",
        "# main statistics\r\n",
        "stats = df['distance'].describe().to_frame().T"
      ],
      "execution_count": 11,
      "outputs": []
    },
    {
      "cell_type": "code",
      "metadata": {
        "colab": {
          "base_uri": "https://localhost:8080/",
          "height": 80
        },
        "id": "6wgbV0bD2-iJ",
        "outputId": "18a15472-a360-49f1-d668-6d405f0e7172"
      },
      "source": [
        "stats"
      ],
      "execution_count": 12,
      "outputs": [
        {
          "output_type": "execute_result",
          "data": {
            "text/html": [
              "<div>\n",
              "<style scoped>\n",
              "    .dataframe tbody tr th:only-of-type {\n",
              "        vertical-align: middle;\n",
              "    }\n",
              "\n",
              "    .dataframe tbody tr th {\n",
              "        vertical-align: top;\n",
              "    }\n",
              "\n",
              "    .dataframe thead th {\n",
              "        text-align: right;\n",
              "    }\n",
              "</style>\n",
              "<table border=\"1\" class=\"dataframe\">\n",
              "  <thead>\n",
              "    <tr style=\"text-align: right;\">\n",
              "      <th></th>\n",
              "      <th>count</th>\n",
              "      <th>mean</th>\n",
              "      <th>std</th>\n",
              "      <th>min</th>\n",
              "      <th>25%</th>\n",
              "      <th>50%</th>\n",
              "      <th>75%</th>\n",
              "      <th>max</th>\n",
              "    </tr>\n",
              "  </thead>\n",
              "  <tbody>\n",
              "    <tr>\n",
              "      <th>distance</th>\n",
              "      <td>808.0</td>\n",
              "      <td>264.069282</td>\n",
              "      <td>733.116493</td>\n",
              "      <td>1.35</td>\n",
              "      <td>32.56</td>\n",
              "      <td>55.25</td>\n",
              "      <td>178.5</td>\n",
              "      <td>8500.0</td>\n",
              "    </tr>\n",
              "  </tbody>\n",
              "</table>\n",
              "</div>"
            ],
            "text/plain": [
              "          count        mean         std   min    25%    50%    75%     max\n",
              "distance  808.0  264.069282  733.116493  1.35  32.56  55.25  178.5  8500.0"
            ]
          },
          "metadata": {
            "tags": []
          },
          "execution_count": 12
        }
      ]
    },
    {
      "cell_type": "code",
      "metadata": {
        "colab": {
          "base_uri": "https://localhost:8080/",
          "height": 204
        },
        "id": "f5ykc17f2_2v",
        "outputId": "91499ac3-6b43-4448-81d5-c34282e632ab"
      },
      "source": [
        "df.corr()"
      ],
      "execution_count": 13,
      "outputs": [
        {
          "output_type": "execute_result",
          "data": {
            "text/html": [
              "<div>\n",
              "<style scoped>\n",
              "    .dataframe tbody tr th:only-of-type {\n",
              "        vertical-align: middle;\n",
              "    }\n",
              "\n",
              "    .dataframe tbody tr th {\n",
              "        vertical-align: top;\n",
              "    }\n",
              "\n",
              "    .dataframe thead th {\n",
              "        text-align: right;\n",
              "    }\n",
              "</style>\n",
              "<table border=\"1\" class=\"dataframe\">\n",
              "  <thead>\n",
              "    <tr style=\"text-align: right;\">\n",
              "      <th></th>\n",
              "      <th>number</th>\n",
              "      <th>orbital_period</th>\n",
              "      <th>mass</th>\n",
              "      <th>distance</th>\n",
              "      <th>year</th>\n",
              "    </tr>\n",
              "  </thead>\n",
              "  <tbody>\n",
              "    <tr>\n",
              "      <th>number</th>\n",
              "      <td>1.000000</td>\n",
              "      <td>-0.012570</td>\n",
              "      <td>-0.241429</td>\n",
              "      <td>-0.033638</td>\n",
              "      <td>0.147849</td>\n",
              "    </tr>\n",
              "    <tr>\n",
              "      <th>orbital_period</th>\n",
              "      <td>-0.012570</td>\n",
              "      <td>1.000000</td>\n",
              "      <td>0.173725</td>\n",
              "      <td>-0.034365</td>\n",
              "      <td>-0.032333</td>\n",
              "    </tr>\n",
              "    <tr>\n",
              "      <th>mass</th>\n",
              "      <td>-0.241429</td>\n",
              "      <td>0.173725</td>\n",
              "      <td>1.000000</td>\n",
              "      <td>0.274082</td>\n",
              "      <td>-0.123787</td>\n",
              "    </tr>\n",
              "    <tr>\n",
              "      <th>distance</th>\n",
              "      <td>-0.033638</td>\n",
              "      <td>-0.034365</td>\n",
              "      <td>0.274082</td>\n",
              "      <td>1.000000</td>\n",
              "      <td>0.178922</td>\n",
              "    </tr>\n",
              "    <tr>\n",
              "      <th>year</th>\n",
              "      <td>0.147849</td>\n",
              "      <td>-0.032333</td>\n",
              "      <td>-0.123787</td>\n",
              "      <td>0.178922</td>\n",
              "      <td>1.000000</td>\n",
              "    </tr>\n",
              "  </tbody>\n",
              "</table>\n",
              "</div>"
            ],
            "text/plain": [
              "                  number  orbital_period      mass  distance      year\n",
              "number          1.000000       -0.012570 -0.241429 -0.033638  0.147849\n",
              "orbital_period -0.012570        1.000000  0.173725 -0.034365 -0.032333\n",
              "mass           -0.241429        0.173725  1.000000  0.274082 -0.123787\n",
              "distance       -0.033638       -0.034365  0.274082  1.000000  0.178922\n",
              "year            0.147849       -0.032333 -0.123787  0.178922  1.000000"
            ]
          },
          "metadata": {
            "tags": []
          },
          "execution_count": 13
        }
      ]
    },
    {
      "cell_type": "code",
      "metadata": {
        "id": "sCVMz5Pi3G0h"
      },
      "source": [
        "s = df['distance']\r\n",
        "q1 = s.quantile(0.25)\r\n",
        "q3 = s.quantile(0.75)\r\n",
        "iqr = q3 - q1\r\n",
        "iqr_lower = q1 - 1.5 * iqr\r\n",
        "iqr_upper = q3 + 1.5 * iqr\r\n",
        "outliers = dict(s[(s < iqr_lower) | (s > iqr_upper)])"
      ],
      "execution_count": 14,
      "outputs": []
    },
    {
      "cell_type": "code",
      "metadata": {
        "colab": {
          "base_uri": "https://localhost:8080/"
        },
        "id": "Em49Qykb3Hug",
        "outputId": "d500ce83-3d98-48b4-f68a-f5ada085657d"
      },
      "source": [
        "outliers"
      ],
      "execution_count": 15,
      "outputs": [
        {
          "output_type": "execute_result",
          "data": {
            "text/plain": [
              "{39: 500.0,\n",
              " 40: 500.0,\n",
              " 93: 680.0,\n",
              " 100: 460.0,\n",
              " 102: 560.0,\n",
              " 103: 1150.0,\n",
              " 104: 1060.0,\n",
              " 105: 1340.0,\n",
              " 106: 840.0,\n",
              " 107: 920.0,\n",
              " 108: 870.0,\n",
              " 109: 770.0,\n",
              " 110: 1230.0,\n",
              " 111: 600.0,\n",
              " 158: 480.0,\n",
              " 185: 535.0,\n",
              " 187: 411.0,\n",
              " 189: 642.0,\n",
              " 190: 501.0,\n",
              " 192: 447.0,\n",
              " 193: 542.0,\n",
              " 197: 453.0,\n",
              " 654: 550.0,\n",
              " 658: 1330.0,\n",
              " 659: 650.0,\n",
              " 660: 650.0,\n",
              " 661: 650.0,\n",
              " 664: 613.0,\n",
              " 665: 613.0,\n",
              " 666: 613.0,\n",
              " 667: 613.0,\n",
              " 668: 613.0,\n",
              " 669: 613.0,\n",
              " 670: 600.0,\n",
              " 672: 980.0,\n",
              " 675: 800.0,\n",
              " 679: 2119.0,\n",
              " 680: 2119.0,\n",
              " 688: 800.0,\n",
              " 689: 800.0,\n",
              " 690: 1200.0,\n",
              " 691: 1200.0,\n",
              " 701: 1400.0,\n",
              " 702: 1400.0,\n",
              " 703: 1400.0,\n",
              " 704: 1400.0,\n",
              " 705: 1400.0,\n",
              " 706: 2100.0,\n",
              " 707: 2100.0,\n",
              " 718: 1499.0,\n",
              " 719: 1645.0,\n",
              " 720: 470.0,\n",
              " 721: 470.0,\n",
              " 725: 600.0,\n",
              " 726: 1200.0,\n",
              " 727: 2700.0,\n",
              " 728: 770.0,\n",
              " 732: 1950.0,\n",
              " 733: 2250.0,\n",
              " 735: 855.0,\n",
              " 736: 855.0,\n",
              " 737: 1500.0,\n",
              " 738: 1500.0,\n",
              " 776: 1000.0,\n",
              " 780: 1107.0,\n",
              " 781: 1107.0,\n",
              " 787: 1180.0,\n",
              " 788: 1180.0,\n",
              " 789: 800.0,\n",
              " 790: 1330.0,\n",
              " 791: 1140.0,\n",
              " 793: 570.0,\n",
              " 818: 780.0,\n",
              " 819: 780.0,\n",
              " 820: 780.0,\n",
              " 821: 780.0,\n",
              " 822: 780.0,\n",
              " 823: 780.0,\n",
              " 824: 780.0,\n",
              " 825: 1030.0,\n",
              " 898: 1056.0,\n",
              " 901: 2000.0,\n",
              " 905: 3600.0,\n",
              " 909: 2300.0,\n",
              " 910: 2800.0,\n",
              " 911: 7720.0,\n",
              " 912: 7560.0,\n",
              " 924: 2570.0,\n",
              " 925: 4080.0,\n",
              " 926: 4080.0,\n",
              " 927: 1760.0,\n",
              " 928: 4970.0,\n",
              " 933: 600.0,\n",
              " 934: 2500.0,\n",
              " 938: 1200.0,\n",
              " 945: 1200.0,\n",
              " 951: 8500.0,\n",
              " 952: 8500.0,\n",
              " 955: 492.0,\n",
              " 959: 408.0,\n",
              " 974: 400.0,\n",
              " 990: 450.0,\n",
              " 1008: 455.0,\n",
              " 1011: 400.0,\n",
              " 1012: 480.0,\n",
              " 1023: 550.0,\n",
              " 1026: 470.0,\n",
              " 1028: 3200.0}"
            ]
          },
          "metadata": {
            "tags": []
          },
          "execution_count": 15
        }
      ]
    }
  ]
}